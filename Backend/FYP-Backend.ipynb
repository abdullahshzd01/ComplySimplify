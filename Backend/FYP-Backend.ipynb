{
 "cells": [
  {
   "cell_type": "code",
   "execution_count": null,
   "id": "82d45ce3",
   "metadata": {},
   "outputs": [],
   "source": [
    "import os\n",
    "from docx import Document"
   ]
  },
  {
   "cell_type": "code",
   "execution_count": null,
   "id": "2b50574f",
   "metadata": {},
   "outputs": [],
   "source": [
    "#========== Ye word file se text read kre ga =============\n",
    "def extract_text(file_path):\n",
    "    doc = Document(file_path)\n",
    "\n",
    "    text = \"\"\n",
    "    for paragraph in doc.paragraphs:\n",
    "        text += paragraph.text.strip() + \" \"\n",
    "\n",
    "    return text.strip()"
   ]
  },
  {
   "cell_type": "code",
   "execution_count": null,
   "id": "fa7dd449",
   "metadata": {},
   "outputs": [],
   "source": [
    "folder_path = r\"C:/Users/ubaig/OneDrive - FAST National University/Documents/FYP-1/DATASET/Testing/Information Security\"\n",
    "test_path = r\"C:/Users/ubaig/OneDrive - FAST National University/Documents/FYP-1/DATASET/Testing\""
   ]
  },
  {
   "cell_type": "code",
   "execution_count": null,
   "id": "8e402505",
   "metadata": {},
   "outputs": [],
   "source": [
    "#========== Ye file us jagah store ho gi jahan ye code hai ===============\n",
    "output_file = 'extracted_text.txt'\n",
    "testing_file = 'testing.txt'\n",
    "#=========== Ab saari computing newly created text file mein ho gi==========="
   ]
  },
  {
   "cell_type": "code",
   "execution_count": null,
   "id": "59c32daf",
   "metadata": {},
   "outputs": [],
   "source": [
    "# Main code\n",
    "with open(output_file, 'w') as outfile:\n",
    "    for filename in os.listdir(folder_path):\n",
    "        file_path = os.path.join(folder_path, filename)\n",
    "        if os.path.isfile(file_path) and file_path.endswith('.docx'):\n",
    "            text = extract_text(file_path)\n",
    "            outfile.write(text + '\\n')\n",
    "            \n",
    "with open(testing_file, 'w') as testfile:\n",
    "    for filename in os.listdir(test_path):\n",
    "        file_path = os.path.join(test_path, filename)\n",
    "        if os.path.isfile(file_path) and file_path.endswith('.docx'):\n",
    "            text = extract_text(file_path)\n",
    "            testfile.write(text + '\\n')"
   ]
  },
  {
   "cell_type": "code",
   "execution_count": null,
   "id": "b403cd56",
   "metadata": {},
   "outputs": [],
   "source": [
    "print(\"Extraction completed. Test file completed\", output_file)"
   ]
  },
  {
   "cell_type": "code",
   "execution_count": null,
   "id": "f5aeb475",
   "metadata": {},
   "outputs": [],
   "source": [
    "from sklearn.feature_extraction.text import TfidfVectorizer\n",
    "from sklearn.metrics.pairwise import cosine_similarity"
   ]
  },
  {
   "cell_type": "code",
   "execution_count": null,
   "id": "0f53cc8d",
   "metadata": {},
   "outputs": [],
   "source": [
    "# ======== created file se text read ================\n",
    "def read_sentences_from_file(filename):\n",
    "    with open(filename, 'r') as file:\n",
    "        sentences = file.readlines()\n",
    "    return [sentence.strip() for sentence in sentences]"
   ]
  },
  {
   "cell_type": "code",
   "execution_count": null,
   "id": "5de24ca2",
   "metadata": {},
   "outputs": [],
   "source": [
    "input_file = 'extracted_text.txt'\n",
    "test_file = 'testing.txt'\n",
    "sentences = read_sentences_from_file(input_file)"
   ]
  },
  {
   "cell_type": "code",
   "execution_count": null,
   "id": "9f7cb654",
   "metadata": {},
   "outputs": [],
   "source": [
    "#========BLA BLA BLA CHECK FOR OUTPUT ===========\n",
    "given_sentence = read_sentences_from_file(test_file)[0]"
   ]
  },
  {
   "cell_type": "code",
   "execution_count": null,
   "id": "64074273",
   "metadata": {},
   "outputs": [],
   "source": [
    "# ==========Create TF-IDF vectorizer==========\n",
    "vectorizer = TfidfVectorizer()\n",
    "sentence_vectors = vectorizer.fit_transform(sentences + [given_sentence])"
   ]
  },
  {
   "cell_type": "code",
   "execution_count": null,
   "id": "9e9d10fa",
   "metadata": {},
   "outputs": [],
   "source": [
    "#==========Similarity check ================\n",
    "similarity_scores = cosine_similarity(sentence_vectors[-1], sentence_vectors[:-1])"
   ]
  },
  {
   "cell_type": "code",
   "execution_count": null,
   "id": "c8742753",
   "metadata": {},
   "outputs": [],
   "source": [
    "#========== Jis k sab se zyada qareeeb hai ================\n",
    "most_similar_index = similarity_scores.argmax()\n",
    "most_similar_sentence = sentences[most_similar_index]"
   ]
  },
  {
   "cell_type": "code",
   "execution_count": null,
   "id": "ca3fecb0",
   "metadata": {},
   "outputs": [],
   "source": [
    "# ========Checking output =================\n",
    "#print(\"Most similar sentence: \", most_similar_sentence)\n",
    "print(\"Similarity score: \", similarity_scores[0, most_similar_index])"
   ]
  }
 ],
 "metadata": {
  "kernelspec": {
   "display_name": "Python 3 (ipykernel)",
   "language": "python",
   "name": "python3"
  },
  "language_info": {
   "codemirror_mode": {
    "name": "ipython",
    "version": 3
   },
   "file_extension": ".py",
   "mimetype": "text/x-python",
   "name": "python",
   "nbconvert_exporter": "python",
   "pygments_lexer": "ipython3",
   "version": "3.9.12"
  }
 },
 "nbformat": 4,
 "nbformat_minor": 5
}
